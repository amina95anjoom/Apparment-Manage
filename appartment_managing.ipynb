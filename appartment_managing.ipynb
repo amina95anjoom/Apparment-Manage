{
 "cells": [
  {
   "cell_type": "code",
   "execution_count": 1,
   "metadata": {},
   "outputs": [],
   "source": [
    "import pandas as pd\n",
    "import numpy as np\n",
    "import matplotlib.pyplot as plt\n",
    "import seaborn as sns"
   ]
  },
  {
   "cell_type": "code",
   "execution_count": 2,
   "metadata": {},
   "outputs": [],
   "source": [
    "#Reading the dataset"
   ]
  },
  {
   "cell_type": "code",
   "execution_count": 3,
   "metadata": {},
   "outputs": [],
   "source": [
    "data=pd.read_excel('mushrooms.csv')"
   ]
  },
  {
   "cell_type": "code",
   "execution_count": 4,
   "metadata": {},
   "outputs": [
    {
     "data": {
      "text/html": [
       "<div>\n",
       "<style scoped>\n",
       "    .dataframe tbody tr th:only-of-type {\n",
       "        vertical-align: middle;\n",
       "    }\n",
       "\n",
       "    .dataframe tbody tr th {\n",
       "        vertical-align: top;\n",
       "    }\n",
       "\n",
       "    .dataframe thead th {\n",
       "        text-align: right;\n",
       "    }\n",
       "</style>\n",
       "<table border=\"1\" class=\"dataframe\">\n",
       "  <thead>\n",
       "    <tr style=\"text-align: right;\">\n",
       "      <th></th>\n",
       "      <th>SalePrice</th>\n",
       "      <th>YearBuilt</th>\n",
       "      <th>YrSold</th>\n",
       "      <th>MonthSold</th>\n",
       "      <th>Size(sqf)</th>\n",
       "      <th>Floor</th>\n",
       "      <th>HallwayType</th>\n",
       "      <th>HeatingType</th>\n",
       "      <th>AptManageType</th>\n",
       "      <th>N_Parkinglot(Ground)</th>\n",
       "      <th>N_Parkinglot(Basement)</th>\n",
       "      <th>N_APT</th>\n",
       "      <th>N_manager</th>\n",
       "      <th>N_elevators</th>\n",
       "      <th>SubwayStation</th>\n",
       "    </tr>\n",
       "  </thead>\n",
       "  <tbody>\n",
       "    <tr>\n",
       "      <th>0</th>\n",
       "      <td>141592</td>\n",
       "      <td>2006</td>\n",
       "      <td>2007</td>\n",
       "      <td>8</td>\n",
       "      <td>814</td>\n",
       "      <td>3</td>\n",
       "      <td>terraced</td>\n",
       "      <td>individual_heating</td>\n",
       "      <td>management_in_trust</td>\n",
       "      <td>111</td>\n",
       "      <td>184</td>\n",
       "      <td>3</td>\n",
       "      <td>3</td>\n",
       "      <td>0</td>\n",
       "      <td>Kyungbuk_uni_hospital</td>\n",
       "    </tr>\n",
       "    <tr>\n",
       "      <th>1</th>\n",
       "      <td>51327</td>\n",
       "      <td>1985</td>\n",
       "      <td>2007</td>\n",
       "      <td>8</td>\n",
       "      <td>587</td>\n",
       "      <td>8</td>\n",
       "      <td>corridor</td>\n",
       "      <td>individual_heating</td>\n",
       "      <td>self_management</td>\n",
       "      <td>80</td>\n",
       "      <td>76</td>\n",
       "      <td>1</td>\n",
       "      <td>2</td>\n",
       "      <td>2</td>\n",
       "      <td>Daegu</td>\n",
       "    </tr>\n",
       "    <tr>\n",
       "      <th>2</th>\n",
       "      <td>48672</td>\n",
       "      <td>1985</td>\n",
       "      <td>2007</td>\n",
       "      <td>8</td>\n",
       "      <td>587</td>\n",
       "      <td>6</td>\n",
       "      <td>corridor</td>\n",
       "      <td>individual_heating</td>\n",
       "      <td>self_management</td>\n",
       "      <td>80</td>\n",
       "      <td>76</td>\n",
       "      <td>1</td>\n",
       "      <td>2</td>\n",
       "      <td>2</td>\n",
       "      <td>Daegu</td>\n",
       "    </tr>\n",
       "    <tr>\n",
       "      <th>3</th>\n",
       "      <td>380530</td>\n",
       "      <td>2006</td>\n",
       "      <td>2007</td>\n",
       "      <td>8</td>\n",
       "      <td>2056</td>\n",
       "      <td>8</td>\n",
       "      <td>terraced</td>\n",
       "      <td>individual_heating</td>\n",
       "      <td>management_in_trust</td>\n",
       "      <td>249</td>\n",
       "      <td>536</td>\n",
       "      <td>6</td>\n",
       "      <td>5</td>\n",
       "      <td>11</td>\n",
       "      <td>Sin-nam</td>\n",
       "    </tr>\n",
       "    <tr>\n",
       "      <th>4</th>\n",
       "      <td>221238</td>\n",
       "      <td>1993</td>\n",
       "      <td>2007</td>\n",
       "      <td>8</td>\n",
       "      <td>1761</td>\n",
       "      <td>3</td>\n",
       "      <td>mixed</td>\n",
       "      <td>individual_heating</td>\n",
       "      <td>management_in_trust</td>\n",
       "      <td>523</td>\n",
       "      <td>536</td>\n",
       "      <td>8</td>\n",
       "      <td>8</td>\n",
       "      <td>20</td>\n",
       "      <td>Myung-duk</td>\n",
       "    </tr>\n",
       "  </tbody>\n",
       "</table>\n",
       "</div>"
      ],
      "text/plain": [
       "   SalePrice  YearBuilt  YrSold  MonthSold  Size(sqf)  Floor HallwayType  \\\n",
       "0     141592       2006    2007          8        814      3    terraced   \n",
       "1      51327       1985    2007          8        587      8    corridor   \n",
       "2      48672       1985    2007          8        587      6    corridor   \n",
       "3     380530       2006    2007          8       2056      8    terraced   \n",
       "4     221238       1993    2007          8       1761      3       mixed   \n",
       "\n",
       "          HeatingType        AptManageType  N_Parkinglot(Ground)  \\\n",
       "0  individual_heating  management_in_trust                   111   \n",
       "1  individual_heating      self_management                    80   \n",
       "2  individual_heating      self_management                    80   \n",
       "3  individual_heating  management_in_trust                   249   \n",
       "4  individual_heating  management_in_trust                   523   \n",
       "\n",
       "   N_Parkinglot(Basement)  N_APT  N_manager  N_elevators  \\\n",
       "0                     184      3          3            0   \n",
       "1                      76      1          2            2   \n",
       "2                      76      1          2            2   \n",
       "3                     536      6          5           11   \n",
       "4                     536      8          8           20   \n",
       "\n",
       "           SubwayStation  \n",
       "0  Kyungbuk_uni_hospital  \n",
       "1                  Daegu  \n",
       "2                  Daegu  \n",
       "3                Sin-nam  \n",
       "4              Myung-duk  "
      ]
     },
     "execution_count": 4,
     "metadata": {},
     "output_type": "execute_result"
    }
   ],
   "source": [
    "data_FC.head()"
   ]
  },
  {
   "cell_type": "code",
   "execution_count": 5,
   "metadata": {},
   "outputs": [],
   "source": [
    "#Displaying basic details of the dataset"
   ]
  },
  {
   "cell_type": "code",
   "execution_count": 6,
   "metadata": {},
   "outputs": [
    {
     "data": {
      "text/plain": [
       "(5891, 15)"
      ]
     },
     "execution_count": 6,
     "metadata": {},
     "output_type": "execute_result"
    }
   ],
   "source": [
    "data_FC.shape"
   ]
  },
  {
   "cell_type": "code",
   "execution_count": 7,
   "metadata": {},
   "outputs": [
    {
     "name": "stdout",
     "output_type": "stream",
     "text": [
      "<class 'pandas.core.frame.DataFrame'>\n",
      "RangeIndex: 5891 entries, 0 to 5890\n",
      "Data columns (total 15 columns):\n",
      " #   Column                  Non-Null Count  Dtype \n",
      "---  ------                  --------------  ----- \n",
      " 0   SalePrice               5891 non-null   int64 \n",
      " 1   YearBuilt               5891 non-null   int64 \n",
      " 2   YrSold                  5891 non-null   int64 \n",
      " 3   MonthSold               5891 non-null   int64 \n",
      " 4   Size(sqf)               5891 non-null   int64 \n",
      " 5   Floor                   5891 non-null   int64 \n",
      " 6   HallwayType             5891 non-null   object\n",
      " 7   HeatingType             5891 non-null   object\n",
      " 8   AptManageType           5891 non-null   object\n",
      " 9   N_Parkinglot(Ground)    5891 non-null   int64 \n",
      " 10  N_Parkinglot(Basement)  5891 non-null   int64 \n",
      " 11  N_APT                   5891 non-null   int64 \n",
      " 12  N_manager               5891 non-null   int64 \n",
      " 13  N_elevators             5891 non-null   int64 \n",
      " 14  SubwayStation           5891 non-null   object\n",
      "dtypes: int64(11), object(4)\n",
      "memory usage: 690.5+ KB\n"
     ]
    }
   ],
   "source": [
    "data_FC.info()"
   ]
  },
  {
   "cell_type": "code",
   "execution_count": 8,
   "metadata": {},
   "outputs": [
    {
     "data": {
      "text/html": [
       "<div>\n",
       "<style scoped>\n",
       "    .dataframe tbody tr th:only-of-type {\n",
       "        vertical-align: middle;\n",
       "    }\n",
       "\n",
       "    .dataframe tbody tr th {\n",
       "        vertical-align: top;\n",
       "    }\n",
       "\n",
       "    .dataframe thead th {\n",
       "        text-align: right;\n",
       "    }\n",
       "</style>\n",
       "<table border=\"1\" class=\"dataframe\">\n",
       "  <thead>\n",
       "    <tr style=\"text-align: right;\">\n",
       "      <th></th>\n",
       "      <th>SalePrice</th>\n",
       "      <th>YearBuilt</th>\n",
       "      <th>YrSold</th>\n",
       "      <th>MonthSold</th>\n",
       "      <th>Size(sqf)</th>\n",
       "      <th>Floor</th>\n",
       "      <th>N_Parkinglot(Ground)</th>\n",
       "      <th>N_Parkinglot(Basement)</th>\n",
       "      <th>N_APT</th>\n",
       "      <th>N_manager</th>\n",
       "      <th>N_elevators</th>\n",
       "    </tr>\n",
       "  </thead>\n",
       "  <tbody>\n",
       "    <tr>\n",
       "      <th>count</th>\n",
       "      <td>5891.000000</td>\n",
       "      <td>5891.000000</td>\n",
       "      <td>5891.000000</td>\n",
       "      <td>5891.000000</td>\n",
       "      <td>5891.000000</td>\n",
       "      <td>5891.000000</td>\n",
       "      <td>5891.000000</td>\n",
       "      <td>5891.000000</td>\n",
       "      <td>5891.000000</td>\n",
       "      <td>5891.000000</td>\n",
       "      <td>5891.000000</td>\n",
       "    </tr>\n",
       "    <tr>\n",
       "      <th>mean</th>\n",
       "      <td>221218.112545</td>\n",
       "      <td>2002.967408</td>\n",
       "      <td>2012.691563</td>\n",
       "      <td>6.160244</td>\n",
       "      <td>955.569173</td>\n",
       "      <td>12.026311</td>\n",
       "      <td>195.883551</td>\n",
       "      <td>570.761670</td>\n",
       "      <td>5.613648</td>\n",
       "      <td>6.310304</td>\n",
       "      <td>11.145985</td>\n",
       "    </tr>\n",
       "    <tr>\n",
       "      <th>std</th>\n",
       "      <td>106384.186446</td>\n",
       "      <td>8.811782</td>\n",
       "      <td>2.905488</td>\n",
       "      <td>3.387752</td>\n",
       "      <td>382.464050</td>\n",
       "      <td>7.548743</td>\n",
       "      <td>218.597210</td>\n",
       "      <td>408.621075</td>\n",
       "      <td>2.811831</td>\n",
       "      <td>3.174088</td>\n",
       "      <td>7.806232</td>\n",
       "    </tr>\n",
       "    <tr>\n",
       "      <th>min</th>\n",
       "      <td>32743.000000</td>\n",
       "      <td>1978.000000</td>\n",
       "      <td>2007.000000</td>\n",
       "      <td>1.000000</td>\n",
       "      <td>135.000000</td>\n",
       "      <td>1.000000</td>\n",
       "      <td>0.000000</td>\n",
       "      <td>0.000000</td>\n",
       "      <td>1.000000</td>\n",
       "      <td>1.000000</td>\n",
       "      <td>0.000000</td>\n",
       "    </tr>\n",
       "    <tr>\n",
       "      <th>25%</th>\n",
       "      <td>144247.000000</td>\n",
       "      <td>1993.000000</td>\n",
       "      <td>2010.000000</td>\n",
       "      <td>3.000000</td>\n",
       "      <td>644.000000</td>\n",
       "      <td>6.000000</td>\n",
       "      <td>11.000000</td>\n",
       "      <td>184.000000</td>\n",
       "      <td>3.000000</td>\n",
       "      <td>5.000000</td>\n",
       "      <td>5.000000</td>\n",
       "    </tr>\n",
       "    <tr>\n",
       "      <th>50%</th>\n",
       "      <td>207964.000000</td>\n",
       "      <td>2006.000000</td>\n",
       "      <td>2013.000000</td>\n",
       "      <td>6.000000</td>\n",
       "      <td>910.000000</td>\n",
       "      <td>11.000000</td>\n",
       "      <td>100.000000</td>\n",
       "      <td>536.000000</td>\n",
       "      <td>7.000000</td>\n",
       "      <td>6.000000</td>\n",
       "      <td>11.000000</td>\n",
       "    </tr>\n",
       "    <tr>\n",
       "      <th>75%</th>\n",
       "      <td>291150.000000</td>\n",
       "      <td>2008.000000</td>\n",
       "      <td>2015.000000</td>\n",
       "      <td>9.000000</td>\n",
       "      <td>1149.000000</td>\n",
       "      <td>17.000000</td>\n",
       "      <td>249.000000</td>\n",
       "      <td>798.000000</td>\n",
       "      <td>8.000000</td>\n",
       "      <td>8.000000</td>\n",
       "      <td>16.000000</td>\n",
       "    </tr>\n",
       "    <tr>\n",
       "      <th>max</th>\n",
       "      <td>585840.000000</td>\n",
       "      <td>2015.000000</td>\n",
       "      <td>2017.000000</td>\n",
       "      <td>12.000000</td>\n",
       "      <td>2337.000000</td>\n",
       "      <td>43.000000</td>\n",
       "      <td>713.000000</td>\n",
       "      <td>1321.000000</td>\n",
       "      <td>13.000000</td>\n",
       "      <td>14.000000</td>\n",
       "      <td>27.000000</td>\n",
       "    </tr>\n",
       "  </tbody>\n",
       "</table>\n",
       "</div>"
      ],
      "text/plain": [
       "           SalePrice    YearBuilt       YrSold    MonthSold    Size(sqf)  \\\n",
       "count    5891.000000  5891.000000  5891.000000  5891.000000  5891.000000   \n",
       "mean   221218.112545  2002.967408  2012.691563     6.160244   955.569173   \n",
       "std    106384.186446     8.811782     2.905488     3.387752   382.464050   \n",
       "min     32743.000000  1978.000000  2007.000000     1.000000   135.000000   \n",
       "25%    144247.000000  1993.000000  2010.000000     3.000000   644.000000   \n",
       "50%    207964.000000  2006.000000  2013.000000     6.000000   910.000000   \n",
       "75%    291150.000000  2008.000000  2015.000000     9.000000  1149.000000   \n",
       "max    585840.000000  2015.000000  2017.000000    12.000000  2337.000000   \n",
       "\n",
       "             Floor  N_Parkinglot(Ground)  N_Parkinglot(Basement)        N_APT  \\\n",
       "count  5891.000000           5891.000000             5891.000000  5891.000000   \n",
       "mean     12.026311            195.883551              570.761670     5.613648   \n",
       "std       7.548743            218.597210              408.621075     2.811831   \n",
       "min       1.000000              0.000000                0.000000     1.000000   \n",
       "25%       6.000000             11.000000              184.000000     3.000000   \n",
       "50%      11.000000            100.000000              536.000000     7.000000   \n",
       "75%      17.000000            249.000000              798.000000     8.000000   \n",
       "max      43.000000            713.000000             1321.000000    13.000000   \n",
       "\n",
       "         N_manager  N_elevators  \n",
       "count  5891.000000  5891.000000  \n",
       "mean      6.310304    11.145985  \n",
       "std       3.174088     7.806232  \n",
       "min       1.000000     0.000000  \n",
       "25%       5.000000     5.000000  \n",
       "50%       6.000000    11.000000  \n",
       "75%       8.000000    16.000000  \n",
       "max      14.000000    27.000000  "
      ]
     },
     "execution_count": 8,
     "metadata": {},
     "output_type": "execute_result"
    }
   ],
   "source": [
    "data_FC.describe()"
   ]
  },
  {
   "cell_type": "code",
   "execution_count": 9,
   "metadata": {},
   "outputs": [],
   "source": [
    "#pre processing"
   ]
  },
  {
   "cell_type": "code",
   "execution_count": 10,
   "metadata": {},
   "outputs": [],
   "source": [
    "#checking for missing values"
   ]
  },
  {
   "cell_type": "code",
   "execution_count": 11,
   "metadata": {},
   "outputs": [
    {
     "data": {
      "text/plain": [
       "SalePrice                 0\n",
       "YearBuilt                 0\n",
       "YrSold                    0\n",
       "MonthSold                 0\n",
       "Size(sqf)                 0\n",
       "Floor                     0\n",
       "HallwayType               0\n",
       "HeatingType               0\n",
       "AptManageType             0\n",
       "N_Parkinglot(Ground)      0\n",
       "N_Parkinglot(Basement)    0\n",
       "N_APT                     0\n",
       "N_manager                 0\n",
       "N_elevators               0\n",
       "SubwayStation             0\n",
       "dtype: int64"
      ]
     },
     "execution_count": 11,
     "metadata": {},
     "output_type": "execute_result"
    }
   ],
   "source": [
    "data_FC.isna().sum()"
   ]
  },
  {
   "cell_type": "code",
   "execution_count": 12,
   "metadata": {},
   "outputs": [],
   "source": [
    "#checking for Outliers\n"
   ]
  },
  {
   "cell_type": "code",
   "execution_count": 13,
   "metadata": {},
   "outputs": [
    {
     "data": {
      "text/plain": [
       "Index(['SalePrice', 'YearBuilt', 'YrSold', 'MonthSold', 'Size(sqf)', 'Floor',\n",
       "       'HallwayType', 'HeatingType', 'AptManageType', 'N_Parkinglot(Ground)',\n",
       "       'N_Parkinglot(Basement)', 'N_APT', 'N_manager', 'N_elevators',\n",
       "       'SubwayStation'],\n",
       "      dtype='object')"
      ]
     },
     "execution_count": 13,
     "metadata": {},
     "output_type": "execute_result"
    }
   ],
   "source": [
    "data_FC.columns\n",
    "   \n"
   ]
  },
  {
   "cell_type": "code",
   "execution_count": 14,
   "metadata": {},
   "outputs": [
    {
     "data": {
      "image/png": "[encoded data removed]",
      "text/plain": [
       "<Figure size 432x288 with 1 Axes>"
      ]
     },
     "metadata": {
      "needs_background": "light"
     },
     "output_type": "display_data"
    },
    {
     "data": {
      "image/png": "[encoded data removed]",
      "text/plain": [
       "<Figure size 432x288 with 1 Axes>"
      ]
     },
     "metadata": {
      "needs_background": "light"
     },
     "output_type": "display_data"
    },
    {
     "data": {
      "image/png": "[encoded data removed]",
      "text/plain": [
       "<Figure size 432x288 with 1 Axes>"
      ]
     },
     "metadata": {
      "needs_background": "light"
     },
     "output_type": "display_data"
    },
    {
     "data": {
      "image/png": "[encoded data removed]",
      "text/plain": [
       "<Figure size 432x288 with 1 Axes>"
      ]
     },
     "metadata": {
      "needs_background": "light"
     },
     "output_type": "display_data"
    },
    {
     "data": {
      "image/png": "[encoded data removed]",
      "text/plain": [
       "<Figure size 432x288 with 1 Axes>"
      ]
     },
     "metadata": {
      "needs_background": "light"
     },
     "output_type": "display_data"
    },
    {
     "data": {
      "image/png": "[encoded data removed]",
      "text/plain": [
       "<Figure size 432x288 with 1 Axes>"
      ]
     },
     "metadata": {
      "needs_background": "light"
     },
     "output_type": "display_data"
    },
    {
     "data": {
      "image/png": "[encoded data removed]",
      "text/plain": [
       "<Figure size 432x288 with 1 Axes>"
      ]
     },
     "metadata": {
      "needs_background": "light"
     },
     "output_type": "display_data"
    },
    {
     "data": {
      "image/png": "[encoded data removed]",
      "text/plain": [
       "<Figure size 432x288 with 1 Axes>"
      ]
     },
     "metadata": {
      "needs_background": "light"
     },
     "output_type": "display_data"
    },
    {
     "data": {
      "image/png": "[encoded data removed]",
      "text/plain": [
       "<Figure size 432x288 with 1 Axes>"
      ]
     },
     "metadata": {
      "needs_background": "light"
     },
     "output_type": "display_data"
    },
    {
     "data": {
      "image/png": "[encoded data removed]",
      "text/plain": [
       "<Figure size 432x288 with 1 Axes>"
      ]
     },
     "metadata": {
      "needs_background": "light"
     },
     "output_type": "display_data"
    },
    {
     "data": {
      "image/png": "[encoded data removed]",
      "text/plain": [
       "<Figure size 432x288 with 1 Axes>"
      ]
     },
     "metadata": {
      "needs_background": "light"
     },
     "output_type": "display_data"
    }
   ],
   "source": [
    "Col=['SalePrice', 'YearBuilt', 'YrSold', 'MonthSold', 'Size(sqf)', 'Floor','N_Parkinglot(Ground)','N_Parkinglot(Basement)', 'N_APT', 'N_manager', 'N_elevators']\n",
    "for x in Col:\n",
    "    plt.boxplot(data_FC[x])\n",
    "    plt.title(x)\n",
    "    plt.show()"
   ]
  },
  {
   "cell_type": "code",
   "execution_count": 15,
   "metadata": {},
   "outputs": [],
   "source": [
    "#Handling Outliers"
   ]
  },
  {
   "cell_type": "code",
   "execution_count": 16,
   "metadata": {},
   "outputs": [
    {
     "name": "stdout",
     "output_type": "stream",
     "text": [
      "(5857, 15)\n",
      "(5739, 15)\n",
      "(5685, 15)\n",
      "(5393, 15)\n",
      "(4748, 15)\n"
     ]
    }
   ],
   "source": [
    "outliers=['SalePrice','Size(sqf)', 'Floor','N_Parkinglot(Ground)','N_manager']\n",
    "for o in outliers:\n",
    "    q1=np.percentile(data_FC[o],25,interpolation='midpoint')\n",
    "    q2=np.percentile(data_FC[o],50,interpolation='midpoint')\n",
    "    q3=np.percentile(data_FC[o],75,interpolation='midpoint')\n",
    "    IQR=q3-q1\n",
    "    low=q1-1.5*IQR\n",
    "    up=q3+1.5*IQR\n",
    "    data_FC.drop(data_FC.loc[((data_FC[o]<low )| (data_FC[o]>up))].index,inplace=True)\n",
    "    print(data_FC.shape)"
   ]
  },
  {
   "cell_type": "code",
   "execution_count": 17,
   "metadata": {},
   "outputs": [],
   "source": [
    "#Encoding\n"
   ]
  },
  {
   "cell_type": "code",
   "execution_count": 18,
   "metadata": {},
   "outputs": [
    {
     "data": {
      "text/plain": [
       "terraced    2609\n",
       "mixed       1645\n",
       "corridor     494\n",
       "Name: HallwayType, dtype: int64"
      ]
     },
     "execution_count": 18,
     "metadata": {},
     "output_type": "execute_result"
    }
   ],
   "source": [
    "data_FC['HallwayType'].value_counts()"
   ]
  },
  {
   "cell_type": "code",
   "execution_count": 19,
   "metadata": {},
   "outputs": [
    {
     "data": {
      "text/plain": [
       "management_in_trust    4464\n",
       "self_management         284\n",
       "Name: AptManageType, dtype: int64"
      ]
     },
     "execution_count": 19,
     "metadata": {},
     "output_type": "execute_result"
    }
   ],
   "source": [
    "data_FC['AptManageType'].value_counts()"
   ]
  },
  {
   "cell_type": "code",
   "execution_count": 20,
   "metadata": {},
   "outputs": [
    {
     "data": {
      "text/plain": [
       "individual_heating    4748\n",
       "Name: HeatingType, dtype: int64"
      ]
     },
     "execution_count": 20,
     "metadata": {},
     "output_type": "execute_result"
    }
   ],
   "source": [
    "data_FC['HeatingType'].value_counts()"
   ]
  },
  {
   "cell_type": "code",
   "execution_count": 21,
   "metadata": {},
   "outputs": [
    {
     "data": {
      "text/plain": [
       "Myung-duk                1461\n",
       "Banwoldang                748\n",
       "Bangoge                   737\n",
       "Kyungbuk_uni_hospital     665\n",
       "Sin-nam                   534\n",
       "no_subway_nearby          403\n",
       "Chil-sung-market          115\n",
       "Daegu                      85\n",
       "Name: SubwayStation, dtype: int64"
      ]
     },
     "execution_count": 21,
     "metadata": {},
     "output_type": "execute_result"
    }
   ],
   "source": [
    "data_FC['SubwayStation'].value_counts()"
   ]
  },
  {
   "cell_type": "code",
   "execution_count": 93,
   "metadata": {},
   "outputs": [],
   "source": [
    "#one hot encoding"
   ]
  },
  {
   "cell_type": "code",
   "execution_count": 22,
   "metadata": {},
   "outputs": [],
   "source": [
    "X=data_FC.iloc[:,data_FC.columns!=\"AptManageType\"]"
   ]
  },
  {
   "cell_type": "code",
   "execution_count": 23,
   "metadata": {},
   "outputs": [],
   "source": [
    "X=pd.get_dummies(X)"
   ]
  },
  {
   "cell_type": "code",
   "execution_count": 24,
   "metadata": {},
   "outputs": [
    {
     "data": {
      "text/plain": [
       "(4748, 23)"
      ]
     },
     "execution_count": 24,
     "metadata": {},
     "output_type": "execute_result"
    }
   ],
   "source": [
    "X.shape"
   ]
  },
  {
   "cell_type": "code",
   "execution_count": 25,
   "metadata": {},
   "outputs": [
    {
     "data": {
      "text/plain": [
       "Index(['SalePrice', 'YearBuilt', 'YrSold', 'MonthSold', 'Size(sqf)', 'Floor',\n",
       "       'N_Parkinglot(Ground)', 'N_Parkinglot(Basement)', 'N_APT', 'N_manager',\n",
       "       'N_elevators', 'HallwayType_corridor', 'HallwayType_mixed',\n",
       "       'HallwayType_terraced', 'HeatingType_individual_heating',\n",
       "       'SubwayStation_Bangoge', 'SubwayStation_Banwoldang',\n",
       "       'SubwayStation_Chil-sung-market', 'SubwayStation_Daegu',\n",
       "       'SubwayStation_Kyungbuk_uni_hospital', 'SubwayStation_Myung-duk',\n",
       "       'SubwayStation_Sin-nam', 'SubwayStation_no_subway_nearby'],\n",
       "      dtype='object')"
      ]
     },
     "execution_count": 25,
     "metadata": {},
     "output_type": "execute_result"
    }
   ],
   "source": [
    "X.columns"
   ]
  },
  {
   "cell_type": "code",
   "execution_count": 26,
   "metadata": {},
   "outputs": [],
   "source": [
    "#splitting the dataset in to indepenedent features and target\n"
   ]
  },
  {
   "cell_type": "code",
   "execution_count": 27,
   "metadata": {},
   "outputs": [],
   "source": [
    "x=X\n",
    "y=data_FC[\"AptManageType\"]"
   ]
  },
  {
   "cell_type": "code",
   "execution_count": 28,
   "metadata": {},
   "outputs": [
    {
     "data": {
      "text/plain": [
       "(4748, 23)"
      ]
     },
     "execution_count": 28,
     "metadata": {},
     "output_type": "execute_result"
    }
   ],
   "source": [
    "x.shape"
   ]
  },
  {
   "cell_type": "code",
   "execution_count": 29,
   "metadata": {},
   "outputs": [
    {
     "data": {
      "text/plain": [
       "(4748,)"
      ]
     },
     "execution_count": 29,
     "metadata": {},
     "output_type": "execute_result"
    }
   ],
   "source": [
    "y.shape"
   ]
  },
  {
   "cell_type": "code",
   "execution_count": 30,
   "metadata": {},
   "outputs": [
    {
     "data": {
      "text/plain": [
       "pandas.core.series.Series"
      ]
     },
     "execution_count": 30,
     "metadata": {},
     "output_type": "execute_result"
    }
   ],
   "source": [
    "type(y)"
   ]
  },
  {
   "cell_type": "code",
   "execution_count": 31,
   "metadata": {},
   "outputs": [],
   "source": [
    "#splitting the dataset to train and test"
   ]
  },
  {
   "cell_type": "code",
   "execution_count": 32,
   "metadata": {},
   "outputs": [],
   "source": [
    "from sklearn.model_selection import train_test_split\n",
    "x_train,x_test,y_train,y_test=train_test_split(x,y,test_size=0.3,random_state=42)"
   ]
  },
  {
   "cell_type": "code",
   "execution_count": 33,
   "metadata": {},
   "outputs": [],
   "source": [
    "from sklearn.metrics import classification_report,confusion_matrix"
   ]
  },
  {
   "cell_type": "code",
   "execution_count": 34,
   "metadata": {},
   "outputs": [],
   "source": [
    "#Decision Tree model"
   ]
  },
  {
   "cell_type": "code",
   "execution_count": 35,
   "metadata": {},
   "outputs": [],
   "source": [
    "from sklearn.tree import DecisionTreeClassifier\n",
    "dt=DecisionTreeClassifier(max_depth=10)\n",
    "dt.fit(x_train,y_train)\n",
    "ypreddt=dt.predict(x_test)\n",
    "\n"
   ]
  },
  {
   "cell_type": "code",
   "execution_count": 36,
   "metadata": {},
   "outputs": [
    {
     "name": "stdout",
     "output_type": "stream",
     "text": [
      "\t\t Classification Report of Decision Tree is:\n",
      "                      precision    recall  f1-score   support\n",
      "\n",
      "management_in_trust       1.00      1.00      1.00      1334\n",
      "    self_management       1.00      1.00      1.00        91\n",
      "\n",
      "           accuracy                           1.00      1425\n",
      "          macro avg       1.00      1.00      1.00      1425\n",
      "       weighted avg       1.00      1.00      1.00      1425\n",
      "\n"
     ]
    }
   ],
   "source": [
    "print(\"\\t\\t Classification Report of Decision Tree is:\\n\",classification_report(y_test,ypreddt))"
   ]
  },
  {
   "cell_type": "code",
   "execution_count": 37,
   "metadata": {},
   "outputs": [
    {
     "name": "stdout",
     "output_type": "stream",
     "text": [
      "\t\t Confusion Matrix of Decision Tree is:\n",
      " [[1334    0]\n",
      " [   0   91]]\n"
     ]
    }
   ],
   "source": [
    "print(\"\\t\\t Confusion Matrix of Decision Tree is:\\n\",confusion_matrix(y_test,ypreddt))"
   ]
  },
  {
   "cell_type": "markdown",
   "metadata": {},
   "source": [
    "## Decision Tree diagram "
   ]
  },
  {
   "cell_type": "code",
   "execution_count": 39,
   "metadata": {},
   "outputs": [
    {
     "data": {
      "text/plain": [
       "[Text(167.4, 181.2, 'X[1] <= 1992.5\\ngini = 0.109\\nsamples = 3323\\nvalue = [3130, 193]'),\n",
       " Text(83.7, 108.72, 'X[9] <= 4.5\\ngini = 0.486\\nsamples = 369\\nvalue = [215, 154]'),\n",
       " Text(41.85, 36.23999999999998, 'gini = 0.0\\nsamples = 154\\nvalue = [0, 154]'),\n",
       " Text(125.55000000000001, 36.23999999999998, 'gini = 0.0\\nsamples = 215\\nvalue = [215, 0]'),\n",
       " Text(251.10000000000002, 108.72, 'X[6] <= 3.5\\ngini = 0.026\\nsamples = 2954\\nvalue = [2915, 39]'),\n",
       " Text(209.25, 36.23999999999998, 'gini = 0.0\\nsamples = 39\\nvalue = [0, 39]'),\n",
       " Text(292.95, 36.23999999999998, 'gini = 0.0\\nsamples = 2915\\nvalue = [2915, 0]')]"
      ]
     },
     "execution_count": 39,
     "metadata": {},
     "output_type": "execute_result"
    },
    {
     "data": {
      "image/png": "[encoded data removed]",
      "text/plain": [
       "<Figure size 432x288 with 1 Axes>"
      ]
     },
     "metadata": {
      "needs_background": "light"
     },
     "output_type": "display_data"
    }
   ],
   "source": [
    "from sklearn import tree\n",
    "tree.plot_tree(dt)"
   ]
  },
  {
   "cell_type": "code",
   "execution_count": 40,
   "metadata": {},
   "outputs": [],
   "source": [
    "# Decision Tree after performing feature importance"
   ]
  },
  {
   "cell_type": "code",
   "execution_count": 41,
   "metadata": {},
   "outputs": [
    {
     "data": {
      "text/plain": [
       "N_manager                              49.358450\n",
       "YearBuilt                              29.471525\n",
       "N_Parkinglot(Ground)                   21.170025\n",
       "SubwayStation_no_subway_nearby          0.000000\n",
       "N_elevators                             0.000000\n",
       "YrSold                                  0.000000\n",
       "MonthSold                               0.000000\n",
       "Size(sqf)                               0.000000\n",
       "Floor                                   0.000000\n",
       "N_Parkinglot(Basement)                  0.000000\n",
       "N_APT                                   0.000000\n",
       "HallwayType_corridor                    0.000000\n",
       "SubwayStation_Sin-nam                   0.000000\n",
       "HallwayType_mixed                       0.000000\n",
       "HallwayType_terraced                    0.000000\n",
       "HeatingType_individual_heating          0.000000\n",
       "SubwayStation_Bangoge                   0.000000\n",
       "SubwayStation_Banwoldang                0.000000\n",
       "SubwayStation_Chil-sung-market          0.000000\n",
       "SubwayStation_Daegu                     0.000000\n",
       "SubwayStation_Kyungbuk_uni_hospital     0.000000\n",
       "SubwayStation_Myung-duk                 0.000000\n",
       "SalePrice                               0.000000\n",
       "dtype: float64"
      ]
     },
     "execution_count": 41,
     "metadata": {},
     "output_type": "execute_result"
    }
   ],
   "source": [
    "pd.Series(dt.feature_importances_,index=x.columns).sort_values(ascending=False)*100"
   ]
  },
  {
   "cell_type": "code",
   "execution_count": 42,
   "metadata": {},
   "outputs": [
    {
     "data": {
      "text/plain": [
       "Index(['SalePrice', 'YearBuilt', 'YrSold', 'MonthSold', 'Size(sqf)', 'Floor',\n",
       "       'N_Parkinglot(Ground)', 'N_Parkinglot(Basement)', 'N_APT', 'N_manager',\n",
       "       'N_elevators', 'HallwayType_corridor', 'HallwayType_mixed',\n",
       "       'HallwayType_terraced', 'HeatingType_individual_heating',\n",
       "       'SubwayStation_Bangoge', 'SubwayStation_Banwoldang',\n",
       "       'SubwayStation_Chil-sung-market', 'SubwayStation_Daegu',\n",
       "       'SubwayStation_Kyungbuk_uni_hospital', 'SubwayStation_Myung-duk',\n",
       "       'SubwayStation_Sin-nam', 'SubwayStation_no_subway_nearby'],\n",
       "      dtype='object')"
      ]
     },
     "execution_count": 42,
     "metadata": {},
     "output_type": "execute_result"
    }
   ],
   "source": [
    "x.columns\n"
   ]
  },
  {
   "cell_type": "code",
   "execution_count": 43,
   "metadata": {},
   "outputs": [],
   "source": [
    "xfeature=x.drop(['SalePrice', 'YrSold', 'MonthSold', 'Size(sqf)', 'Floor',\n",
    "        'N_Parkinglot(Basement)', 'N_APT', 'N_manager',\n",
    "        'HallwayType_corridor', 'HallwayType_mixed',\n",
    "       'HallwayType_terraced', 'HeatingType_individual_heating',\n",
    "       'SubwayStation_Bangoge', 'SubwayStation_Banwoldang',\n",
    "       'SubwayStation_Chil-sung-market', 'SubwayStation_Daegu',\n",
    "       'SubwayStation_Kyungbuk_uni_hospital', 'SubwayStation_Myung-duk',\n",
    "       'SubwayStation_Sin-nam', 'SubwayStation_no_subway_nearby'],axis=1)"
   ]
  },
  {
   "cell_type": "code",
   "execution_count": 44,
   "metadata": {},
   "outputs": [
    {
     "data": {
      "text/plain": [
       "(4748, 3)"
      ]
     },
     "execution_count": 44,
     "metadata": {},
     "output_type": "execute_result"
    }
   ],
   "source": [
    "xfeature.shape"
   ]
  },
  {
   "cell_type": "code",
   "execution_count": 45,
   "metadata": {},
   "outputs": [],
   "source": [
    "xfeature_train,xfeature_test,y_train,y_test=train_test_split(xfeature,y,test_size=0.3,random_state=42)"
   ]
  },
  {
   "cell_type": "code",
   "execution_count": 46,
   "metadata": {},
   "outputs": [],
   "source": [
    "dtnew=DecisionTreeClassifier(max_depth=10)\n",
    "dtnew.fit(xfeature_train,y_train)\n",
    "ypreddtnew=dtnew.predict(xfeature_test)\n"
   ]
  },
  {
   "cell_type": "code",
   "execution_count": 47,
   "metadata": {},
   "outputs": [
    {
     "name": "stdout",
     "output_type": "stream",
     "text": [
      "\t\t Classification Report of new Decision Tree is:\n",
      "                      precision    recall  f1-score   support\n",
      "\n",
      "management_in_trust       1.00      1.00      1.00      1334\n",
      "    self_management       1.00      1.00      1.00        91\n",
      "\n",
      "           accuracy                           1.00      1425\n",
      "          macro avg       1.00      1.00      1.00      1425\n",
      "       weighted avg       1.00      1.00      1.00      1425\n",
      "\n"
     ]
    }
   ],
   "source": [
    "print(\"\\t\\t Classification Report of new Decision Tree is:\\n\",classification_report(y_test,ypreddtnew))"
   ]
  },
  {
   "cell_type": "code",
   "execution_count": 48,
   "metadata": {},
   "outputs": [],
   "source": [
    "#Decision tree after performing hyper parameter tuning"
   ]
  },
  {
   "cell_type": "code",
   "execution_count": 49,
   "metadata": {},
   "outputs": [],
   "source": [
    "dtree_new=DecisionTreeClassifier(criterion='entropy',max_depth=25,random_state=42)"
   ]
  },
  {
   "cell_type": "code",
   "execution_count": 50,
   "metadata": {},
   "outputs": [
    {
     "data": {
      "text/plain": [
       "DecisionTreeClassifier(criterion='entropy', max_depth=25, random_state=42)"
      ]
     },
     "execution_count": 50,
     "metadata": {},
     "output_type": "execute_result"
    }
   ],
   "source": [
    "dtree_new.fit(x_train,y_train)"
   ]
  },
  {
   "cell_type": "code",
   "execution_count": 51,
   "metadata": {},
   "outputs": [],
   "source": [
    "y_preddtreenew=dtree_new.predict(x_test)"
   ]
  },
  {
   "cell_type": "code",
   "execution_count": 52,
   "metadata": {},
   "outputs": [
    {
     "name": "stdout",
     "output_type": "stream",
     "text": [
      "\t\tClassification Report of Dt-new \n",
      "                      precision    recall  f1-score   support\n",
      "\n",
      "management_in_trust       1.00      1.00      1.00      1334\n",
      "    self_management       1.00      1.00      1.00        91\n",
      "\n",
      "           accuracy                           1.00      1425\n",
      "          macro avg       1.00      1.00      1.00      1425\n",
      "       weighted avg       1.00      1.00      1.00      1425\n",
      "\n"
     ]
    }
   ],
   "source": [
    "print(\"\\t\\tClassification Report of Dt-new \\n\",classification_report(y_test,y_preddtreenew))"
   ]
  },
  {
   "cell_type": "code",
   "execution_count": 53,
   "metadata": {},
   "outputs": [],
   "source": [
    "#Random forest model"
   ]
  },
  {
   "cell_type": "code",
   "execution_count": 54,
   "metadata": {},
   "outputs": [],
   "source": [
    "from sklearn.ensemble import RandomForestClassifier\n",
    "rf=RandomForestClassifier(max_depth=10)\n",
    "rf.fit(x_train,y_train)\n",
    "ypredrf=rf.predict(x_test)"
   ]
  },
  {
   "cell_type": "code",
   "execution_count": 55,
   "metadata": {},
   "outputs": [
    {
     "name": "stdout",
     "output_type": "stream",
     "text": [
      "\t\t Classification Report of Random Forest is:\n",
      "                      precision    recall  f1-score   support\n",
      "\n",
      "management_in_trust       1.00      1.00      1.00      1334\n",
      "    self_management       1.00      1.00      1.00        91\n",
      "\n",
      "           accuracy                           1.00      1425\n",
      "          macro avg       1.00      1.00      1.00      1425\n",
      "       weighted avg       1.00      1.00      1.00      1425\n",
      "\n"
     ]
    }
   ],
   "source": [
    "print(\"\\t\\t Classification Report of Random Forest is:\\n\",classification_report(y_test,ypredrf))"
   ]
  },
  {
   "cell_type": "code",
   "execution_count": 56,
   "metadata": {},
   "outputs": [
    {
     "name": "stdout",
     "output_type": "stream",
     "text": [
      "\t\t Confusion Matrix of Random Forest is:\n",
      " [[1334    0]\n",
      " [   0   91]]\n"
     ]
    }
   ],
   "source": [
    "print(\"\\t\\t Confusion Matrix of Random Forest is:\\n\",confusion_matrix(y_test,ypredrf))"
   ]
  },
  {
   "cell_type": "code",
   "execution_count": 57,
   "metadata": {},
   "outputs": [],
   "source": [
    "#random forest after performing feature importance"
   ]
  },
  {
   "cell_type": "code",
   "execution_count": 58,
   "metadata": {},
   "outputs": [
    {
     "data": {
      "text/plain": [
       "YearBuilt                              18.664461\n",
       "N_Parkinglot(Basement)                 16.940231\n",
       "N_Parkinglot(Ground)                   14.587998\n",
       "N_manager                              11.297065\n",
       "N_elevators                            10.220711\n",
       "Size(sqf)                               8.129887\n",
       "SalePrice                               3.337341\n",
       "SubwayStation_Daegu                     2.954015\n",
       "HallwayType_mixed                       2.942079\n",
       "HallwayType_corridor                    2.756974\n",
       "SubwayStation_Myung-duk                 2.166547\n",
       "N_APT                                   1.905928\n",
       "HallwayType_terraced                    1.073586\n",
       "SubwayStation_Chil-sung-market          0.991408\n",
       "SubwayStation_Banwoldang                0.750635\n",
       "SubwayStation_no_subway_nearby          0.671473\n",
       "Floor                                   0.331642\n",
       "YrSold                                  0.148379\n",
       "SubwayStation_Kyungbuk_uni_hospital     0.105514\n",
       "MonthSold                               0.024125\n",
       "SubwayStation_Sin-nam                   0.000000\n",
       "HeatingType_individual_heating          0.000000\n",
       "SubwayStation_Bangoge                   0.000000\n",
       "dtype: float64"
      ]
     },
     "execution_count": 58,
     "metadata": {},
     "output_type": "execute_result"
    }
   ],
   "source": [
    "pd.Series(rf.feature_importances_,index=x.columns).sort_values(ascending=False)*100"
   ]
  },
  {
   "cell_type": "code",
   "execution_count": 59,
   "metadata": {},
   "outputs": [],
   "source": [
    "xfeature1=x.drop(['SalePrice', 'YearBuilt', 'Size(sqf)',\n",
    "       'N_Parkinglot(Ground)', 'N_Parkinglot(Basement)', 'N_APT', 'N_manager',\n",
    "       'N_elevators', 'HallwayType_corridor', 'HallwayType_mixed',\n",
    "       'HallwayType_terraced',\n",
    "       'SubwayStation_Daegu'],axis=1)"
   ]
  },
  {
   "cell_type": "code",
   "execution_count": 60,
   "metadata": {},
   "outputs": [
    {
     "data": {
      "text/plain": [
       "(4748, 11)"
      ]
     },
     "execution_count": 60,
     "metadata": {},
     "output_type": "execute_result"
    }
   ],
   "source": [
    "xfeature1.shape"
   ]
  },
  {
   "cell_type": "code",
   "execution_count": 61,
   "metadata": {},
   "outputs": [],
   "source": [
    "xfeature1_train,xfeature1_test,y_train,y_test=train_test_split(xfeature1,y,test_size=0.3,random_state=42)"
   ]
  },
  {
   "cell_type": "code",
   "execution_count": 62,
   "metadata": {},
   "outputs": [],
   "source": [
    "rfnew=RandomForestClassifier(max_depth=10)\n",
    "rfnew.fit(xfeature1_train,y_train)\n",
    "ypredrfnew=rfnew.predict(xfeature1_test)"
   ]
  },
  {
   "cell_type": "code",
   "execution_count": 63,
   "metadata": {},
   "outputs": [
    {
     "name": "stdout",
     "output_type": "stream",
     "text": [
      "\t\t Classification Report of new Random Forest is:\n",
      "                      precision    recall  f1-score   support\n",
      "\n",
      "management_in_trust       0.94      0.99      0.97      1334\n",
      "    self_management       0.63      0.13      0.22        91\n",
      "\n",
      "           accuracy                           0.94      1425\n",
      "          macro avg       0.79      0.56      0.59      1425\n",
      "       weighted avg       0.92      0.94      0.92      1425\n",
      "\n"
     ]
    }
   ],
   "source": [
    "print(\"\\t\\t Classification Report of new Random Forest is:\\n\",classification_report(y_test,ypredrfnew))"
   ]
  },
  {
   "cell_type": "markdown",
   "metadata": {},
   "source": [
    "Accuracy of RF reduced after performing feature importance"
   ]
  },
  {
   "cell_type": "code",
   "execution_count": 64,
   "metadata": {},
   "outputs": [],
   "source": [
    "#Gradient Boost model"
   ]
  },
  {
   "cell_type": "code",
   "execution_count": 65,
   "metadata": {},
   "outputs": [],
   "source": [
    "from sklearn.ensemble import GradientBoostingClassifier\n",
    "gb=GradientBoostingClassifier(max_depth=20)\n",
    "gb.fit(x_train,y_train)\n",
    "ypredgb=gb.predict(x_test)"
   ]
  },
  {
   "cell_type": "code",
   "execution_count": 66,
   "metadata": {},
   "outputs": [
    {
     "name": "stdout",
     "output_type": "stream",
     "text": [
      "\t\t Classification Report of Gradient Boost is:\n",
      "                      precision    recall  f1-score   support\n",
      "\n",
      "management_in_trust       1.00      1.00      1.00      1334\n",
      "    self_management       1.00      1.00      1.00        91\n",
      "\n",
      "           accuracy                           1.00      1425\n",
      "          macro avg       1.00      1.00      1.00      1425\n",
      "       weighted avg       1.00      1.00      1.00      1425\n",
      "\n"
     ]
    }
   ],
   "source": [
    "print(\"\\t\\t Classification Report of Gradient Boost is:\\n\",classification_report(y_test,ypredgb))"
   ]
  },
  {
   "cell_type": "code",
   "execution_count": 67,
   "metadata": {},
   "outputs": [
    {
     "name": "stdout",
     "output_type": "stream",
     "text": [
      "\t\t Confusion Matrix of Gradient Boost is:\n",
      " [[1334    0]\n",
      " [   0   91]]\n"
     ]
    }
   ],
   "source": [
    "print(\"\\t\\t Confusion Matrix of Gradient Boost is:\\n\",confusion_matrix(y_test,ypredgb))"
   ]
  },
  {
   "cell_type": "code",
   "execution_count": 68,
   "metadata": {},
   "outputs": [],
   "source": [
    "#gradient boost model after performing feature importance"
   ]
  },
  {
   "cell_type": "code",
   "execution_count": 69,
   "metadata": {},
   "outputs": [
    {
     "data": {
      "text/plain": [
       "N_elevators                            4.079239e+01\n",
       "YearBuilt                              2.947153e+01\n",
       "Size(sqf)                              1.147044e+01\n",
       "N_Parkinglot(Ground)                   9.699588e+00\n",
       "N_manager                              8.566056e+00\n",
       "SalePrice                              8.110361e-13\n",
       "N_Parkinglot(Basement)                 6.852855e-14\n",
       "Floor                                  5.024343e-14\n",
       "YrSold                                 2.663716e-14\n",
       "MonthSold                              8.043901e-15\n",
       "SubwayStation_Daegu                    6.870350e-16\n",
       "SubwayStation_Myung-duk                3.949541e-16\n",
       "HallwayType_corridor                   3.144024e-16\n",
       "SubwayStation_Banwoldang               8.072152e-18\n",
       "HallwayType_terraced                   7.375492e-19\n",
       "N_APT                                  5.134594e-19\n",
       "HallwayType_mixed                      5.484977e-20\n",
       "SubwayStation_Bangoge                  2.167729e-20\n",
       "SubwayStation_Sin-nam                  2.141309e-20\n",
       "SubwayStation_no_subway_nearby         1.028316e-20\n",
       "SubwayStation_Kyungbuk_uni_hospital    5.247435e-21\n",
       "SubwayStation_Chil-sung-market         9.212844e-22\n",
       "HeatingType_individual_heating         0.000000e+00\n",
       "dtype: float64"
      ]
     },
     "execution_count": 69,
     "metadata": {},
     "output_type": "execute_result"
    }
   ],
   "source": [
    "pd.Series(gb.feature_importances_,index=x.columns).sort_values(ascending=False)*100"
   ]
  },
  {
   "cell_type": "code",
   "execution_count": 70,
   "metadata": {},
   "outputs": [],
   "source": [
    "xfeature2=x.drop(['SalePrice', 'YrSold', 'MonthSold', 'Floor',\n",
    "       'N_Parkinglot(Basement)', 'N_APT',\n",
    "       'HallwayType_corridor', 'HallwayType_mixed',\n",
    "       'HallwayType_terraced', 'HeatingType_individual_heating',\n",
    "       'SubwayStation_Bangoge', 'SubwayStation_Banwoldang',\n",
    "       'SubwayStation_Chil-sung-market', 'SubwayStation_Daegu',\n",
    "       'SubwayStation_Kyungbuk_uni_hospital', 'SubwayStation_Myung-duk',\n",
    "       'SubwayStation_Sin-nam', 'SubwayStation_no_subway_nearby'],axis=1)"
   ]
  },
  {
   "cell_type": "code",
   "execution_count": 71,
   "metadata": {},
   "outputs": [
    {
     "data": {
      "text/plain": [
       "(4748, 5)"
      ]
     },
     "execution_count": 71,
     "metadata": {},
     "output_type": "execute_result"
    }
   ],
   "source": [
    "xfeature2.shape"
   ]
  },
  {
   "cell_type": "code",
   "execution_count": 72,
   "metadata": {},
   "outputs": [],
   "source": [
    "xfeature2_train,xfeature2_test,y_train,y_test=train_test_split(xfeature2,y,test_size=0.3,random_state=42)"
   ]
  },
  {
   "cell_type": "code",
   "execution_count": 73,
   "metadata": {},
   "outputs": [],
   "source": [
    "gbnew=GradientBoostingClassifier(max_depth=10)\n",
    "gbnew.fit(xfeature2_train,y_train)\n",
    "ypredgbnew=gbnew.predict(xfeature2_test)"
   ]
  },
  {
   "cell_type": "code",
   "execution_count": 74,
   "metadata": {},
   "outputs": [
    {
     "name": "stdout",
     "output_type": "stream",
     "text": [
      "\t\t Classification report  of new  Gradient Boost is:\n",
      "                      precision    recall  f1-score   support\n",
      "\n",
      "management_in_trust       1.00      1.00      1.00      1334\n",
      "    self_management       1.00      1.00      1.00        91\n",
      "\n",
      "           accuracy                           1.00      1425\n",
      "          macro avg       1.00      1.00      1.00      1425\n",
      "       weighted avg       1.00      1.00      1.00      1425\n",
      "\n"
     ]
    }
   ],
   "source": [
    "print(\"\\t\\t Classification report  of new  Gradient Boost is:\\n\",classification_report(y_test,ypredgbnew))"
   ]
  },
  {
   "cell_type": "code",
   "execution_count": 75,
   "metadata": {},
   "outputs": [],
   "source": [
    "#Gradient boost after hyper parameter tuning"
   ]
  },
  {
   "cell_type": "code",
   "execution_count": 76,
   "metadata": {},
   "outputs": [],
   "source": [
    "gbnewt=GradientBoostingClassifier( max_depth=10,n_estimators=500,learning_rate=0.5)\n",
    "gbnewt.fit(x_train,y_train)\n",
    "y_predgbnewt=gbnewt.predict(x_test)"
   ]
  },
  {
   "cell_type": "code",
   "execution_count": 77,
   "metadata": {},
   "outputs": [
    {
     "name": "stdout",
     "output_type": "stream",
     "text": [
      "\t\t Classification report  of  Gradient Boost after hyper parameter tuning is:\n",
      "                      precision    recall  f1-score   support\n",
      "\n",
      "management_in_trust       1.00      1.00      1.00      1334\n",
      "    self_management       1.00      1.00      1.00        91\n",
      "\n",
      "           accuracy                           1.00      1425\n",
      "          macro avg       1.00      1.00      1.00      1425\n",
      "       weighted avg       1.00      1.00      1.00      1425\n",
      "\n"
     ]
    }
   ],
   "source": [
    "print(\"\\t\\t Classification report  of  Gradient Boost after hyper parameter tuning is:\\n\",classification_report(y_test,y_predgbnewt))"
   ]
  },
  {
   "cell_type": "code",
   "execution_count": 78,
   "metadata": {},
   "outputs": [],
   "source": [
    "#Extreme Gradient Boost"
   ]
  },
  {
   "cell_type": "code",
   "execution_count": 79,
   "metadata": {},
   "outputs": [
    {
     "name": "stdout",
     "output_type": "stream",
     "text": [
      "Requirement already satisfied: xgboost in c:\\users\\kavit\\anaconda3\\lib\\site-packages (1.2.1)\n",
      "Requirement already satisfied: numpy in c:\\users\\kavit\\anaconda3\\lib\\site-packages (from xgboost) (1.18.5)\n",
      "Requirement already satisfied: scipy in c:\\users\\kavit\\anaconda3\\lib\\site-packages (from xgboost) (1.5.0)\n"
     ]
    }
   ],
   "source": [
    "!pip install xgboost"
   ]
  },
  {
   "cell_type": "code",
   "execution_count": 80,
   "metadata": {},
   "outputs": [],
   "source": [
    "from xgboost import XGBClassifier\n",
    "xgb=XGBClassifier(max_depth=10)\n",
    "xgb.fit(x_train,y_train)\n",
    "ypredxgb=xgb.predict(x_test)"
   ]
  },
  {
   "cell_type": "code",
   "execution_count": 81,
   "metadata": {},
   "outputs": [
    {
     "name": "stdout",
     "output_type": "stream",
     "text": [
      "\t\t Classification Report of Extreme Gradient Boost is:\n",
      "                      precision    recall  f1-score   support\n",
      "\n",
      "management_in_trust       1.00      1.00      1.00      1334\n",
      "    self_management       1.00      1.00      1.00        91\n",
      "\n",
      "           accuracy                           1.00      1425\n",
      "          macro avg       1.00      1.00      1.00      1425\n",
      "       weighted avg       1.00      1.00      1.00      1425\n",
      "\n"
     ]
    }
   ],
   "source": [
    "print(\"\\t\\t Classification Report of Extreme Gradient Boost is:\\n\",classification_report(y_test,ypredxgb))"
   ]
  },
  {
   "cell_type": "code",
   "execution_count": 82,
   "metadata": {},
   "outputs": [
    {
     "name": "stdout",
     "output_type": "stream",
     "text": [
      "\t\t Confusion Matrix of Extreme Gradient Boost is:\n",
      " [[1334    0]\n",
      " [   0   91]]\n"
     ]
    }
   ],
   "source": [
    "print(\"\\t\\t Confusion Matrix of Extreme Gradient Boost is:\\n\",confusion_matrix(y_test,ypredxgb))"
   ]
  },
  {
   "cell_type": "code",
   "execution_count": 83,
   "metadata": {},
   "outputs": [],
   "source": [
    "# extreme gradient boost after feature importance"
   ]
  },
  {
   "cell_type": "code",
   "execution_count": 84,
   "metadata": {},
   "outputs": [
    {
     "data": {
      "text/plain": [
       "N_manager                              42.244064\n",
       "Size(sqf)                              34.662556\n",
       "YearBuilt                              22.255898\n",
       "HallwayType_corridor                    0.381933\n",
       "SalePrice                               0.190673\n",
       "N_APT                                   0.121086\n",
       "N_Parkinglot(Ground)                    0.058028\n",
       "N_elevators                             0.056821\n",
       "N_Parkinglot(Basement)                  0.028941\n",
       "SubwayStation_Myung-duk                 0.000000\n",
       "YrSold                                  0.000000\n",
       "MonthSold                               0.000000\n",
       "SubwayStation_Kyungbuk_uni_hospital     0.000000\n",
       "Floor                                   0.000000\n",
       "SubwayStation_Chil-sung-market          0.000000\n",
       "SubwayStation_Banwoldang                0.000000\n",
       "SubwayStation_Daegu                     0.000000\n",
       "SubwayStation_Sin-nam                   0.000000\n",
       "HallwayType_mixed                       0.000000\n",
       "HallwayType_terraced                    0.000000\n",
       "HeatingType_individual_heating          0.000000\n",
       "SubwayStation_Bangoge                   0.000000\n",
       "SubwayStation_no_subway_nearby          0.000000\n",
       "dtype: float32"
      ]
     },
     "execution_count": 84,
     "metadata": {},
     "output_type": "execute_result"
    }
   ],
   "source": [
    "pd.Series(xgb.feature_importances_,index=x.columns).sort_values(ascending=False)*100"
   ]
  },
  {
   "cell_type": "code",
   "execution_count": 85,
   "metadata": {},
   "outputs": [],
   "source": [
    "xfeature3=x.drop(['SalePrice','YrSold', 'MonthSold',  'Floor',\n",
    "       'N_Parkinglot(Ground)', 'N_Parkinglot(Basement)', 'N_APT',\n",
    "       'N_elevators', 'HallwayType_corridor', 'HallwayType_mixed',\n",
    "       'HallwayType_terraced', 'HeatingType_individual_heating',\n",
    "       'SubwayStation_Bangoge', 'SubwayStation_Banwoldang',\n",
    "       'SubwayStation_Chil-sung-market', 'SubwayStation_Daegu',\n",
    "       'SubwayStation_Kyungbuk_uni_hospital', 'SubwayStation_Myung-duk',\n",
    "       'SubwayStation_Sin-nam', 'SubwayStation_no_subway_nearby'],axis=1)"
   ]
  },
  {
   "cell_type": "code",
   "execution_count": 86,
   "metadata": {},
   "outputs": [
    {
     "data": {
      "text/plain": [
       "(4748, 3)"
      ]
     },
     "execution_count": 86,
     "metadata": {},
     "output_type": "execute_result"
    }
   ],
   "source": [
    "xfeature3.shape"
   ]
  },
  {
   "cell_type": "code",
   "execution_count": 87,
   "metadata": {},
   "outputs": [],
   "source": [
    "xfeature3_train,xfeature3_test,y_train,y_test=train_test_split(xfeature3,y,test_size=0.3,random_state=42)"
   ]
  },
  {
   "cell_type": "code",
   "execution_count": 88,
   "metadata": {},
   "outputs": [],
   "source": [
    "xgbnew=XGBClassifier(max_depth=10)\n",
    "xgbnew.fit(xfeature3_train,y_train)\n",
    "ypredxgbnew=xgbnew.predict(xfeature3_test)"
   ]
  },
  {
   "cell_type": "code",
   "execution_count": 89,
   "metadata": {},
   "outputs": [
    {
     "name": "stdout",
     "output_type": "stream",
     "text": [
      "\t\t Classification Report of new Extreme Gradient Boost is:\n",
      "                      precision    recall  f1-score   support\n",
      "\n",
      "management_in_trust       1.00      1.00      1.00      1334\n",
      "    self_management       1.00      1.00      1.00        91\n",
      "\n",
      "           accuracy                           1.00      1425\n",
      "          macro avg       1.00      1.00      1.00      1425\n",
      "       weighted avg       1.00      1.00      1.00      1425\n",
      "\n"
     ]
    }
   ],
   "source": [
    "print(\"\\t\\t Classification Report of new Extreme Gradient Boost is:\\n\",classification_report(y_test,ypredxgbnew))"
   ]
  },
  {
   "cell_type": "code",
   "execution_count": 90,
   "metadata": {},
   "outputs": [],
   "source": [
    "#Extreme gradient boost after performing fine tuning of hyper parameters"
   ]
  },
  {
   "cell_type": "code",
   "execution_count": 91,
   "metadata": {},
   "outputs": [],
   "source": [
    "xgbnewt=XGBClassifier( n_estimators=500,max_depth=10,learning_rate=0.5)"
   ]
  },
  {
   "cell_type": "code",
   "execution_count": 92,
   "metadata": {},
   "outputs": [
    {
     "name": "stdout",
     "output_type": "stream",
     "text": [
      "Classification report of xgb after parameter tuning                      precision    recall  f1-score   support\n",
      "\n",
      "management_in_trust       1.00      1.00      1.00      1334\n",
      "    self_management       1.00      1.00      1.00        91\n",
      "\n",
      "           accuracy                           1.00      1425\n",
      "          macro avg       1.00      1.00      1.00      1425\n",
      "       weighted avg       1.00      1.00      1.00      1425\n",
      "\n"
     ]
    }
   ],
   "source": [
    "xgbnewt.fit(x_train,y_train)\n",
    "y_predxgbnewt=xgbnewt.predict(x_test)\n",
    "print(\"Classification report of xgb after parameter tuning\",classification_report(y_test,y_predxgbnewt))"
   ]
  },
  {
   "cell_type": "markdown",
   "metadata": {},
   "source": [
    "#### Decision Tree, Gradient Boost and Extreme Gradient Boost are giving maximum performance in all cases. After performing Feature importance and hyper parameter tuning these three are giving 100 percent accuracy"
   ]
  },
  {
   "cell_type": "code",
   "execution_count": null,
   "metadata": {},
   "outputs": [],
   "source": []
  }
 ],
 "metadata": {
  "kernelspec": {
   "display_name": "Python 3",
   "language": "python",
   "name": "python3"
  },
  "language_info": {
   "codemirror_mode": {
    "name": "ipython",
    "version": 3
   },
   "file_extension": ".py",
   "mimetype": "text/x-python",
   "name": "python",
   "nbconvert_exporter": "python",
   "pygments_lexer": "ipython3",
   "version": "3.8.5"
  }
 },
 "nbformat": 4,
 "nbformat_minor": 4
}
